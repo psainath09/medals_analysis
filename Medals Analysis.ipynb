{
 "cells": [
  {
   "cell_type": "code",
   "execution_count": 7,
   "metadata": {},
   "outputs": [],
   "source": [
    "# required packages to fetch and process data with pandas\n",
    "import pandas as pd\n",
    "import numpy as np\n",
    "import matplotlib.pyplot as plt\n",
    "%matplotlib inline\n",
    "import re"
   ]
  },
  {
   "cell_type": "code",
   "execution_count": 8,
   "metadata": {},
   "outputs": [],
   "source": [
    "# load medals data using pandas\n",
    "medals_data = pd.read_csv(\"medals.csv\")"
   ]
  },
  {
   "cell_type": "markdown",
   "metadata": {},
   "source": [
    "# Exploratory Data Analysis"
   ]
  },
  {
   "cell_type": "code",
   "execution_count": 9,
   "metadata": {},
   "outputs": [
    {
     "data": {
      "text/html": [
       "<div>\n",
       "<style scoped>\n",
       "    .dataframe tbody tr th:only-of-type {\n",
       "        vertical-align: middle;\n",
       "    }\n",
       "\n",
       "    .dataframe tbody tr th {\n",
       "        vertical-align: top;\n",
       "    }\n",
       "\n",
       "    .dataframe thead th {\n",
       "        text-align: right;\n",
       "    }\n",
       "</style>\n",
       "<table border=\"1\" class=\"dataframe\">\n",
       "  <thead>\n",
       "    <tr style=\"text-align: right;\">\n",
       "      <th></th>\n",
       "      <th>Games</th>\n",
       "      <th>Year</th>\n",
       "      <th>Sport</th>\n",
       "      <th>Discipline</th>\n",
       "      <th>Athlete</th>\n",
       "      <th>Team</th>\n",
       "      <th>Gender</th>\n",
       "      <th>Event</th>\n",
       "      <th>Medal</th>\n",
       "      <th>Gold</th>\n",
       "      <th>Silver</th>\n",
       "      <th>Bronze</th>\n",
       "    </tr>\n",
       "  </thead>\n",
       "  <tbody>\n",
       "    <tr>\n",
       "      <th>0</th>\n",
       "      <td>Athens (1896)</td>\n",
       "      <td>1896</td>\n",
       "      <td>Aquatics</td>\n",
       "      <td>Swimming</td>\n",
       "      <td>alfred hajos</td>\n",
       "      <td>HUN</td>\n",
       "      <td>Men</td>\n",
       "      <td>100m freestyle men</td>\n",
       "      <td>Gold</td>\n",
       "      <td>1</td>\n",
       "      <td>0</td>\n",
       "      <td>0</td>\n",
       "    </tr>\n",
       "    <tr>\n",
       "      <th>1</th>\n",
       "      <td>Athens (1896)</td>\n",
       "      <td>1896</td>\n",
       "      <td>Aquatics</td>\n",
       "      <td>Swimming</td>\n",
       "      <td>Otto Herschmann</td>\n",
       "      <td>AUT</td>\n",
       "      <td>Men</td>\n",
       "      <td>100m freestyle men</td>\n",
       "      <td>Silver</td>\n",
       "      <td>0</td>\n",
       "      <td>1</td>\n",
       "      <td>0</td>\n",
       "    </tr>\n",
       "    <tr>\n",
       "      <th>2</th>\n",
       "      <td>Athens (1896)</td>\n",
       "      <td>1896</td>\n",
       "      <td>Aquatics</td>\n",
       "      <td>Swimming</td>\n",
       "      <td>dimitrios drivas</td>\n",
       "      <td>GRE</td>\n",
       "      <td>Men</td>\n",
       "      <td>100m freestyle for sailors men</td>\n",
       "      <td>Bronze</td>\n",
       "      <td>0</td>\n",
       "      <td>0</td>\n",
       "      <td>1</td>\n",
       "    </tr>\n",
       "    <tr>\n",
       "      <th>3</th>\n",
       "      <td>Athens (1896)</td>\n",
       "      <td>1896</td>\n",
       "      <td>Aquatics</td>\n",
       "      <td>Swimming</td>\n",
       "      <td>Ioannis Malokinis</td>\n",
       "      <td>GRE</td>\n",
       "      <td>Men</td>\n",
       "      <td>100m freestyle for sailors men</td>\n",
       "      <td>Gold</td>\n",
       "      <td>1</td>\n",
       "      <td>0</td>\n",
       "      <td>0</td>\n",
       "    </tr>\n",
       "    <tr>\n",
       "      <th>4</th>\n",
       "      <td>Athens (1896)</td>\n",
       "      <td>1896</td>\n",
       "      <td>Aquatics</td>\n",
       "      <td>Swimming</td>\n",
       "      <td>spiridon chasapis</td>\n",
       "      <td>GRE</td>\n",
       "      <td>Men</td>\n",
       "      <td>100m freestyle for sailors men</td>\n",
       "      <td>Silver</td>\n",
       "      <td>0</td>\n",
       "      <td>1</td>\n",
       "      <td>0</td>\n",
       "    </tr>\n",
       "  </tbody>\n",
       "</table>\n",
       "</div>"
      ],
      "text/plain": [
       "           Games  Year     Sport Discipline            Athlete Team Gender  \\\n",
       "0  Athens (1896)  1896  Aquatics   Swimming       alfred hajos  HUN    Men   \n",
       "1  Athens (1896)  1896  Aquatics   Swimming    Otto Herschmann  AUT    Men   \n",
       "2  Athens (1896)  1896  Aquatics   Swimming   dimitrios drivas  GRE    Men   \n",
       "3  Athens (1896)  1896  Aquatics   Swimming  Ioannis Malokinis  GRE    Men   \n",
       "4  Athens (1896)  1896  Aquatics   Swimming  spiridon chasapis  GRE    Men   \n",
       "\n",
       "                            Event   Medal  Gold  Silver  Bronze  \n",
       "0              100m freestyle men    Gold     1       0       0  \n",
       "1              100m freestyle men  Silver     0       1       0  \n",
       "2  100m freestyle for sailors men  Bronze     0       0       1  \n",
       "3  100m freestyle for sailors men    Gold     1       0       0  \n",
       "4  100m freestyle for sailors men  Silver     0       1       0  "
      ]
     },
     "execution_count": 9,
     "metadata": {},
     "output_type": "execute_result"
    }
   ],
   "source": [
    "medals_data.head()"
   ]
  },
  {
   "cell_type": "markdown",
   "metadata": {},
   "source": [
    "### General Assumptions\n",
    "\n",
    "**Games**:     This variable describles olympic game with year <br>\n",
    "**Year**:      This variable is Year of game <br>\n",
    "**Sport**:     Sport of the game <br>\n",
    "**Discipline**:category of sport <br>\n",
    "**Athlete**:   Athlete who participated in particular sport of category in particular year <br>\n",
    "**Team**:      Team code of Athlete <br>\n",
    "**Gender**:    gender of Athlete <br>\n",
    "**Event**:     Event name in which Athlete won the medal <br>\n",
    "**Medal**:     Type of medal Athlete won <br>\n",
    "**Gold**:      Flag number <br>\n",
    "**Silver**:    Flag number <br>\n",
    "**Bronze**:    Flag number <br>\n",
    "\n"
   ]
  },
  {
   "cell_type": "code",
   "execution_count": 10,
   "metadata": {},
   "outputs": [
    {
     "data": {
      "text/html": [
       "<div>\n",
       "<style scoped>\n",
       "    .dataframe tbody tr th:only-of-type {\n",
       "        vertical-align: middle;\n",
       "    }\n",
       "\n",
       "    .dataframe tbody tr th {\n",
       "        vertical-align: top;\n",
       "    }\n",
       "\n",
       "    .dataframe thead th {\n",
       "        text-align: right;\n",
       "    }\n",
       "</style>\n",
       "<table border=\"1\" class=\"dataframe\">\n",
       "  <thead>\n",
       "    <tr style=\"text-align: right;\">\n",
       "      <th></th>\n",
       "      <th>Games</th>\n",
       "      <th>Year</th>\n",
       "      <th>Sport</th>\n",
       "      <th>Discipline</th>\n",
       "      <th>Athlete</th>\n",
       "      <th>Team</th>\n",
       "      <th>Gender</th>\n",
       "      <th>Event</th>\n",
       "      <th>Medal</th>\n",
       "      <th>Gold</th>\n",
       "      <th>Silver</th>\n",
       "      <th>Bronze</th>\n",
       "    </tr>\n",
       "  </thead>\n",
       "  <tbody>\n",
       "    <tr>\n",
       "      <th>count</th>\n",
       "      <td>33261</td>\n",
       "      <td>33261.000000</td>\n",
       "      <td>33261</td>\n",
       "      <td>33261</td>\n",
       "      <td>33261</td>\n",
       "      <td>33261</td>\n",
       "      <td>33261</td>\n",
       "      <td>33261</td>\n",
       "      <td>33261</td>\n",
       "      <td>33261.00000</td>\n",
       "      <td>33261.000000</td>\n",
       "      <td>33261.000000</td>\n",
       "    </tr>\n",
       "    <tr>\n",
       "      <th>unique</th>\n",
       "      <td>28</td>\n",
       "      <td>NaN</td>\n",
       "      <td>42</td>\n",
       "      <td>56</td>\n",
       "      <td>24303</td>\n",
       "      <td>150</td>\n",
       "      <td>3</td>\n",
       "      <td>879</td>\n",
       "      <td>3</td>\n",
       "      <td>NaN</td>\n",
       "      <td>NaN</td>\n",
       "      <td>NaN</td>\n",
       "    </tr>\n",
       "    <tr>\n",
       "      <th>top</th>\n",
       "      <td>Rio (2016)</td>\n",
       "      <td>NaN</td>\n",
       "      <td>Aquatics</td>\n",
       "      <td>Athletics</td>\n",
       "      <td>Michael Phelps</td>\n",
       "      <td>USA</td>\n",
       "      <td>Men</td>\n",
       "      <td>football men</td>\n",
       "      <td>Gold</td>\n",
       "      <td>NaN</td>\n",
       "      <td>NaN</td>\n",
       "      <td>NaN</td>\n",
       "    </tr>\n",
       "    <tr>\n",
       "      <th>freq</th>\n",
       "      <td>2082</td>\n",
       "      <td>NaN</td>\n",
       "      <td>4508</td>\n",
       "      <td>3867</td>\n",
       "      <td>28</td>\n",
       "      <td>4869</td>\n",
       "      <td>22726</td>\n",
       "      <td>1233</td>\n",
       "      <td>11180</td>\n",
       "      <td>NaN</td>\n",
       "      <td>NaN</td>\n",
       "      <td>NaN</td>\n",
       "    </tr>\n",
       "    <tr>\n",
       "      <th>mean</th>\n",
       "      <td>NaN</td>\n",
       "      <td>1973.340188</td>\n",
       "      <td>NaN</td>\n",
       "      <td>NaN</td>\n",
       "      <td>NaN</td>\n",
       "      <td>NaN</td>\n",
       "      <td>NaN</td>\n",
       "      <td>NaN</td>\n",
       "      <td>NaN</td>\n",
       "      <td>0.33640</td>\n",
       "      <td>0.330327</td>\n",
       "      <td>0.333544</td>\n",
       "    </tr>\n",
       "    <tr>\n",
       "      <th>std</th>\n",
       "      <td>NaN</td>\n",
       "      <td>33.940163</td>\n",
       "      <td>NaN</td>\n",
       "      <td>NaN</td>\n",
       "      <td>NaN</td>\n",
       "      <td>NaN</td>\n",
       "      <td>NaN</td>\n",
       "      <td>NaN</td>\n",
       "      <td>NaN</td>\n",
       "      <td>0.47534</td>\n",
       "      <td>0.470338</td>\n",
       "      <td>0.471486</td>\n",
       "    </tr>\n",
       "    <tr>\n",
       "      <th>min</th>\n",
       "      <td>NaN</td>\n",
       "      <td>1896.000000</td>\n",
       "      <td>NaN</td>\n",
       "      <td>NaN</td>\n",
       "      <td>NaN</td>\n",
       "      <td>NaN</td>\n",
       "      <td>NaN</td>\n",
       "      <td>NaN</td>\n",
       "      <td>NaN</td>\n",
       "      <td>0.00000</td>\n",
       "      <td>0.000000</td>\n",
       "      <td>0.000000</td>\n",
       "    </tr>\n",
       "    <tr>\n",
       "      <th>25%</th>\n",
       "      <td>NaN</td>\n",
       "      <td>1952.000000</td>\n",
       "      <td>NaN</td>\n",
       "      <td>NaN</td>\n",
       "      <td>NaN</td>\n",
       "      <td>NaN</td>\n",
       "      <td>NaN</td>\n",
       "      <td>NaN</td>\n",
       "      <td>NaN</td>\n",
       "      <td>0.00000</td>\n",
       "      <td>0.000000</td>\n",
       "      <td>0.000000</td>\n",
       "    </tr>\n",
       "    <tr>\n",
       "      <th>50%</th>\n",
       "      <td>NaN</td>\n",
       "      <td>1984.000000</td>\n",
       "      <td>NaN</td>\n",
       "      <td>NaN</td>\n",
       "      <td>NaN</td>\n",
       "      <td>NaN</td>\n",
       "      <td>NaN</td>\n",
       "      <td>NaN</td>\n",
       "      <td>NaN</td>\n",
       "      <td>0.00000</td>\n",
       "      <td>0.000000</td>\n",
       "      <td>0.000000</td>\n",
       "    </tr>\n",
       "    <tr>\n",
       "      <th>75%</th>\n",
       "      <td>NaN</td>\n",
       "      <td>2000.000000</td>\n",
       "      <td>NaN</td>\n",
       "      <td>NaN</td>\n",
       "      <td>NaN</td>\n",
       "      <td>NaN</td>\n",
       "      <td>NaN</td>\n",
       "      <td>NaN</td>\n",
       "      <td>NaN</td>\n",
       "      <td>1.00000</td>\n",
       "      <td>1.000000</td>\n",
       "      <td>1.000000</td>\n",
       "    </tr>\n",
       "    <tr>\n",
       "      <th>max</th>\n",
       "      <td>NaN</td>\n",
       "      <td>2016.000000</td>\n",
       "      <td>NaN</td>\n",
       "      <td>NaN</td>\n",
       "      <td>NaN</td>\n",
       "      <td>NaN</td>\n",
       "      <td>NaN</td>\n",
       "      <td>NaN</td>\n",
       "      <td>NaN</td>\n",
       "      <td>10.00000</td>\n",
       "      <td>1.000000</td>\n",
       "      <td>1.000000</td>\n",
       "    </tr>\n",
       "  </tbody>\n",
       "</table>\n",
       "</div>"
      ],
      "text/plain": [
       "             Games          Year     Sport Discipline         Athlete   Team  \\\n",
       "count        33261  33261.000000     33261      33261           33261  33261   \n",
       "unique          28           NaN        42         56           24303    150   \n",
       "top     Rio (2016)           NaN  Aquatics  Athletics  Michael Phelps    USA   \n",
       "freq          2082           NaN      4508       3867              28   4869   \n",
       "mean           NaN   1973.340188       NaN        NaN             NaN    NaN   \n",
       "std            NaN     33.940163       NaN        NaN             NaN    NaN   \n",
       "min            NaN   1896.000000       NaN        NaN             NaN    NaN   \n",
       "25%            NaN   1952.000000       NaN        NaN             NaN    NaN   \n",
       "50%            NaN   1984.000000       NaN        NaN             NaN    NaN   \n",
       "75%            NaN   2000.000000       NaN        NaN             NaN    NaN   \n",
       "max            NaN   2016.000000       NaN        NaN             NaN    NaN   \n",
       "\n",
       "       Gender         Event  Medal         Gold        Silver        Bronze  \n",
       "count   33261         33261  33261  33261.00000  33261.000000  33261.000000  \n",
       "unique      3           879      3          NaN           NaN           NaN  \n",
       "top       Men  football men   Gold          NaN           NaN           NaN  \n",
       "freq    22726          1233  11180          NaN           NaN           NaN  \n",
       "mean      NaN           NaN    NaN      0.33640      0.330327      0.333544  \n",
       "std       NaN           NaN    NaN      0.47534      0.470338      0.471486  \n",
       "min       NaN           NaN    NaN      0.00000      0.000000      0.000000  \n",
       "25%       NaN           NaN    NaN      0.00000      0.000000      0.000000  \n",
       "50%       NaN           NaN    NaN      0.00000      0.000000      0.000000  \n",
       "75%       NaN           NaN    NaN      1.00000      1.000000      1.000000  \n",
       "max       NaN           NaN    NaN     10.00000      1.000000      1.000000  "
      ]
     },
     "execution_count": 10,
     "metadata": {},
     "output_type": "execute_result"
    }
   ],
   "source": [
    "# basic exploration\n",
    "medals_data.describe(include='all')\n",
    "# looks like max value of gold flag is 10. let's check in boxplot"
   ]
  },
  {
   "cell_type": "markdown",
   "metadata": {},
   "source": [
    "#### Outlier Detection"
   ]
  },
  {
   "cell_type": "code",
   "execution_count": 11,
   "metadata": {},
   "outputs": [
    {
     "data": {
      "text/plain": [
       "<matplotlib.axes._subplots.AxesSubplot at 0x7f627049a9b0>"
      ]
     },
     "execution_count": 11,
     "metadata": {},
     "output_type": "execute_result"
    },
    {
     "data": {
      "image/png": "[encoded data removed]",
      "text/plain": [
       "<Figure size 432x288 with 1 Axes>"
      ]
     },
     "metadata": {
      "needs_background": "light"
     },
     "output_type": "display_data"
    }
   ],
   "source": [
    "medals_data.boxplot(column=['Gold','Silver','Bronze'])\n",
    "# oops, it's an outlier in Gold variable flag. \n"
   ]
  },
  {
   "cell_type": "code",
   "execution_count": 12,
   "metadata": {},
   "outputs": [],
   "source": [
    "# looks like there is data error for GOLD which is 10. \n",
    "#Assuming Gold, Silver, Bronze columns are flag values with 1.  \n",
    "#replacing this 10 value with 1\n",
    "medals_data['Gold'] = np.where(medals_data['Gold'] > 1, 1, medals_data['Gold'])"
   ]
  },
  {
   "cell_type": "code",
   "execution_count": 13,
   "metadata": {},
   "outputs": [
    {
     "data": {
      "text/plain": [
       "Games         0\n",
       "Year          0\n",
       "Sport         0\n",
       "Discipline    0\n",
       "Athlete       0\n",
       "Team          0\n",
       "Gender        0\n",
       "Event         0\n",
       "Medal         0\n",
       "Gold          0\n",
       "Silver        0\n",
       "Bronze        0\n",
       "dtype: int64"
      ]
     },
     "execution_count": 13,
     "metadata": {},
     "output_type": "execute_result"
    }
   ],
   "source": [
    "medals_data.isna().sum()"
   ]
  },
  {
   "cell_type": "code",
   "execution_count": 892,
   "metadata": {},
   "outputs": [
    {
     "data": {
      "text/plain": [
       "Index(['Games', 'Year', 'Sport', 'Discipline', 'Athlete', 'Team', 'Gender',\n",
       "       'Event', 'Medal', 'Gold', 'Silver', 'Bronze'],\n",
       "      dtype='object')"
      ]
     },
     "execution_count": 892,
     "metadata": {},
     "output_type": "execute_result"
    }
   ],
   "source": [
    "medals_data.columns"
   ]
  },
  {
   "cell_type": "code",
   "execution_count": 893,
   "metadata": {},
   "outputs": [],
   "source": [
    "# cleaning string names\n",
    "medals_data['Athlete'] = medals_data['Athlete'].map(lambda x: re.sub('[^A-Za-z ]+', '', x))\n",
    "# converting some columns string into lower case as it may effect in count and sum aggregations\n",
    "medals_data['Sport'] = medals_data['Sport'].map(lambda x: x.lower())\n",
    "medals_data['Athlete'] = medals_data['Athlete'].map(lambda x: x.lower())\n",
    "medals_data['Event'] = medals_data['Event'].map(lambda x: x.lower())"
   ]
  },
  {
   "cell_type": "code",
   "execution_count": 894,
   "metadata": {},
   "outputs": [],
   "source": [
    "result_df = medals_data.drop_duplicates()"
   ]
  },
  {
   "cell_type": "code",
   "execution_count": 895,
   "metadata": {},
   "outputs": [],
   "source": [
    "df= result_df.copy()"
   ]
  },
  {
   "cell_type": "code",
   "execution_count": null,
   "metadata": {},
   "outputs": [],
   "source": []
  },
  {
   "cell_type": "markdown",
   "metadata": {},
   "source": [
    "## Unique columns are created based on following assumptions\n",
    "\n",
    "### To make Athlete unique as same Athlete name can be in another team with same gender.\n",
    "### To make event unique as same event name can be in different year game."
   ]
  },
  {
   "cell_type": "code",
   "execution_count": 896,
   "metadata": {},
   "outputs": [],
   "source": [
    "# creating some unique combination columns useful for analysis\n",
    "df['athlete_unique_col']= df['Team']+'_'+df['Athlete']+'_'+df['Gender']\n",
    "df['event_unique_col']= df['Games']+'_'+df['Sport']+'_'+df['Discipline']+'_'+df['Event']"
   ]
  },
  {
   "cell_type": "code",
   "execution_count": null,
   "metadata": {},
   "outputs": [],
   "source": []
  },
  {
   "cell_type": "markdown",
   "metadata": {},
   "source": [
    "# Q1. Five athletes who won the most gold medals in Athletics "
   ]
  },
  {
   "cell_type": "markdown",
   "metadata": {},
   "source": [
    "### Solution Using Pandas"
   ]
  },
  {
   "cell_type": "code",
   "execution_count": 897,
   "metadata": {},
   "outputs": [],
   "source": [
    "top5_athlets = df[df['Sport']=='athletics'].groupby(['athlete_unique_col','Athlete'])['Gold'].sum().reset_index().sort_values('Gold',ascending=False).head()"
   ]
  },
  {
   "cell_type": "code",
   "execution_count": 898,
   "metadata": {},
   "outputs": [
    {
     "data": {
      "text/plain": [
       "['carl lewis', 'paavo nurmi', 'ray ewry', 'usain bolt', 'ville ritola']"
      ]
     },
     "execution_count": 898,
     "metadata": {},
     "output_type": "execute_result"
    }
   ],
   "source": [
    "list(top5_athlets.loc[:,'Athlete'])"
   ]
  },
  {
   "cell_type": "code",
   "execution_count": null,
   "metadata": {},
   "outputs": [],
   "source": []
  },
  {
   "cell_type": "markdown",
   "metadata": {},
   "source": [
    "# Q2. Five athletes who won gold medals in the largest number of different athletic events"
   ]
  },
  {
   "cell_type": "markdown",
   "metadata": {},
   "source": [
    "### Solution with Pandas"
   ]
  },
  {
   "cell_type": "markdown",
   "metadata": {},
   "source": [
    "### Following steps are considered for solution\n",
    "\n",
    "Step 1 : considering athlete unique value and aggregating number of medals in different events <br>\n",
    "Step 2 : excluded all rows where Gold variable is 0. i.e, where athelete did not achieve gold medal <br>\n",
    "Step 3: creating a flag variable says where athletes achieved atleast 1 gold medal in different events. <br>\n",
    "Step 4 : Now, we have dataset where athletes won gold medal in different events <br>\n",
    "Step 5 : aggregating on flag variable based on unique field and sorting in descending order gives top results"
   ]
  },
  {
   "cell_type": "code",
   "execution_count": 899,
   "metadata": {},
   "outputs": [],
   "source": [
    "# grouping athelts to different events and counting number of gold medals by each athlete\n",
    "events_data = df.groupby([\"athlete_unique_col\",\"Event\",\"Athlete\"])['Gold'].sum().reset_index()"
   ]
  },
  {
   "cell_type": "code",
   "execution_count": 900,
   "metadata": {},
   "outputs": [],
   "source": [
    "# excluding unwanted rows where there are no gold medals by athlet\n",
    "events_data = events_data[events_data['Gold']>0]\n",
    "events_data['gold_flag']=1"
   ]
  },
  {
   "cell_type": "code",
   "execution_count": 901,
   "metadata": {},
   "outputs": [],
   "source": [
    "top5_athlete_in_events = events_data.groupby(['athlete_unique_col','Athlete'])['gold_flag'].sum().reset_index().sort_values('gold_flag',ascending=False).head()"
   ]
  },
  {
   "cell_type": "code",
   "execution_count": 902,
   "metadata": {},
   "outputs": [
    {
     "data": {
      "text/html": [
       "<div>\n",
       "<style scoped>\n",
       "    .dataframe tbody tr th:only-of-type {\n",
       "        vertical-align: middle;\n",
       "    }\n",
       "\n",
       "    .dataframe tbody tr th {\n",
       "        vertical-align: top;\n",
       "    }\n",
       "\n",
       "    .dataframe thead th {\n",
       "        text-align: right;\n",
       "    }\n",
       "</style>\n",
       "<table border=\"1\" class=\"dataframe\">\n",
       "  <thead>\n",
       "    <tr style=\"text-align: right;\">\n",
       "      <th></th>\n",
       "      <th>athlete_unique_col</th>\n",
       "      <th>Athlete</th>\n",
       "      <th>gold_flag</th>\n",
       "    </tr>\n",
       "  </thead>\n",
       "  <tbody>\n",
       "    <tr>\n",
       "      <th>8264</th>\n",
       "      <td>USA_michael phelps_Men</td>\n",
       "      <td>michael phelps</td>\n",
       "      <td>8</td>\n",
       "    </tr>\n",
       "    <tr>\n",
       "      <th>8185</th>\n",
       "      <td>USA_mark spitz_Men</td>\n",
       "      <td>mark spitz</td>\n",
       "      <td>7</td>\n",
       "    </tr>\n",
       "    <tr>\n",
       "      <th>1686</th>\n",
       "      <td>EUN_vitaly scherbo_Men</td>\n",
       "      <td>vitaly scherbo</td>\n",
       "      <td>6</td>\n",
       "    </tr>\n",
       "    <tr>\n",
       "      <th>6457</th>\n",
       "      <td>URS_boris shakhlin_Men</td>\n",
       "      <td>boris shakhlin</td>\n",
       "      <td>6</td>\n",
       "    </tr>\n",
       "    <tr>\n",
       "      <th>446</th>\n",
       "      <td>BEL_hubert van innis_Men</td>\n",
       "      <td>hubert van innis</td>\n",
       "      <td>6</td>\n",
       "    </tr>\n",
       "  </tbody>\n",
       "</table>\n",
       "</div>"
      ],
      "text/plain": [
       "            athlete_unique_col           Athlete  gold_flag\n",
       "8264    USA_michael phelps_Men    michael phelps          8\n",
       "8185        USA_mark spitz_Men        mark spitz          7\n",
       "1686    EUN_vitaly scherbo_Men    vitaly scherbo          6\n",
       "6457    URS_boris shakhlin_Men    boris shakhlin          6\n",
       "446   BEL_hubert van innis_Men  hubert van innis          6"
      ]
     },
     "execution_count": 902,
     "metadata": {},
     "output_type": "execute_result"
    }
   ],
   "source": [
    "top5_athlete_in_events"
   ]
  },
  {
   "cell_type": "code",
   "execution_count": 903,
   "metadata": {},
   "outputs": [
    {
     "data": {
      "text/plain": [
       "['michael phelps',\n",
       " 'mark spitz',\n",
       " 'vitaly scherbo',\n",
       " 'boris shakhlin',\n",
       " 'hubert van innis']"
      ]
     },
     "execution_count": 903,
     "metadata": {},
     "output_type": "execute_result"
    }
   ],
   "source": [
    "list(top5_athlete_in_events.loc[:,'Athlete'])"
   ]
  },
  {
   "cell_type": "code",
   "execution_count": null,
   "metadata": {},
   "outputs": [],
   "source": []
  },
  {
   "cell_type": "markdown",
   "metadata": {},
   "source": [
    "# Q3. Top Five of different athletic events after removing guilty athlets"
   ]
  },
  {
   "cell_type": "markdown",
   "metadata": {},
   "source": [
    "## In above question results, Third position based on number gold medals shared by 5 Athletes. Assuming \"vitaly scherbo\" as third Athlete as per index results."
   ]
  },
  {
   "cell_type": "markdown",
   "metadata": {},
   "source": [
    "### Following steps are considered for solution\n",
    "\n",
    "Step 1 : As per above results, \"michael phelps\" and \"vitaly scherbo\" found guilty as per their result values. <br>\n",
    "Step 2 : considering all events where these 2 athelets are participated <br>\n",
    "Step 3 : making their gold flag values to null and upgrading medals in these events <br>\n",
    "Step 4 : considering athlete unique value and aggregating number of medals in different events <br>\n",
    "Step 2 : excluded all rows where Gold variable is 0. i.e, where athelete did not achieve gold medal <br>\n",
    "Step 3 : creating a flag variable says where athletes achieved atleast 1 gold medal in different events. <br>\n",
    "Step 4 : Now, we have dataset where athletes won gold medal in different events <br>\n",
    "Step 5 : aggregating on flag variable based on unique field and sorting in descending order gives top results <br>\n"
   ]
  },
  {
   "cell_type": "code",
   "execution_count": null,
   "metadata": {},
   "outputs": [],
   "source": []
  },
  {
   "cell_type": "code",
   "execution_count": 904,
   "metadata": {},
   "outputs": [],
   "source": [
    "# getting guilty results set where these 2 athelets presented in all events\n",
    "guilty_found_results=df[(df.athlete_unique_col=='USA_michael phelps_Men') |(df.athlete_unique_col=='EUN_vitaly scherbo_Men')].groupby(['event_unique_col','athlete_unique_col']).sum().reset_index()\n",
    "\n",
    "# giving a flag value which helps in excluding these values\n",
    "guilty_found_results['disq']= 1"
   ]
  },
  {
   "cell_type": "code",
   "execution_count": 905,
   "metadata": {},
   "outputs": [],
   "source": [
    "# creating a new revised dataset which will exclude above results in following lines\n",
    "revised_results = pd.merge(df,guilty_found_results.loc[:,['event_unique_col','disq']],how='left',on=['event_unique_col'])"
   ]
  },
  {
   "cell_type": "code",
   "execution_count": 906,
   "metadata": {},
   "outputs": [],
   "source": [
    "# whereever there is null value after merge, which means we do not need to consider \n",
    "# those events for medals redistribution\n",
    "revised_results= revised_results.fillna(0)"
   ]
  },
  {
   "cell_type": "code",
   "execution_count": 907,
   "metadata": {},
   "outputs": [],
   "source": [
    "# This will make all gold medal values 0 where first and third athlete present( flag value indicates their events)\n",
    "revised_results['Gold']= np.where((revised_results['disq']==1)&(revised_results['Gold']==1),0,revised_results['Gold'])\n",
    "# after removing gold medals from these 2, upgrading silver medal athletes to gold medal\n",
    "revised_results['Gold']= np.where((revised_results['Silver']==1) & (revised_results['disq']==1),1,revised_results['Gold'])\n",
    "# whereever these is a bronze medal in these events, they are upgraded to silver\n",
    "revised_results['Silver']= np.where((revised_results['Bronze']==1) & (revised_results['disq']==1),1,revised_results['Silver'])\n",
    "# whereever these is a bronze medal in these events, they are upgraded to silver and making them 0\n",
    "revised_results['Bronze']= np.where((revised_results['Bronze']==1) & (revised_results['disq']==1),0,revised_results['Silver'])"
   ]
  },
  {
   "cell_type": "markdown",
   "metadata": {},
   "source": [
    "### Applying same logic on revised dataset"
   ]
  },
  {
   "cell_type": "code",
   "execution_count": 908,
   "metadata": {},
   "outputs": [],
   "source": [
    "# applying same logic applied for question 2 above\n",
    "revised_events_data = revised_results.groupby([\"athlete_unique_col\",\"Event\",\"Athlete\"])['Gold'].sum().reset_index()"
   ]
  },
  {
   "cell_type": "code",
   "execution_count": 909,
   "metadata": {},
   "outputs": [],
   "source": [
    "# excluding unwanted rows where there are no gold medals by athlet\n",
    "revised_events_data = revised_events_data[revised_events_data['Gold']>0]"
   ]
  },
  {
   "cell_type": "code",
   "execution_count": 910,
   "metadata": {},
   "outputs": [],
   "source": [
    "# flag value\n",
    "revised_events_data['gold_flag']=1\n",
    "top5_in_revised_data = revised_events_data.groupby(['athlete_unique_col','Athlete'])['gold_flag'].sum().reset_index().sort_values('gold_flag',ascending=False).head()"
   ]
  },
  {
   "cell_type": "code",
   "execution_count": 911,
   "metadata": {},
   "outputs": [
    {
     "data": {
      "text/plain": [
       "['mark spitz',\n",
       " 'boris shakhlin',\n",
       " 'kristin otto',\n",
       " 'hubert van innis',\n",
       " 'paavo nurmi']"
      ]
     },
     "execution_count": 911,
     "metadata": {},
     "output_type": "execute_result"
    }
   ],
   "source": [
    "list(top5_in_revised_data.loc[:,'Athlete'])"
   ]
  },
  {
   "cell_type": "code",
   "execution_count": null,
   "metadata": {},
   "outputs": [],
   "source": []
  },
  {
   "cell_type": "code",
   "execution_count": null,
   "metadata": {},
   "outputs": [],
   "source": []
  },
  {
   "cell_type": "code",
   "execution_count": null,
   "metadata": {},
   "outputs": [],
   "source": []
  }
 ],
 "metadata": {
  "kernelspec": {
   "display_name": "Python 3",
   "language": "python",
   "name": "python3"
  },
  "language_info": {
   "codemirror_mode": {
    "name": "ipython",
    "version": 3
   },
   "file_extension": ".py",
   "mimetype": "text/x-python",
   "name": "python",
   "nbconvert_exporter": "python",
   "pygments_lexer": "ipython3",
   "version": "3.7.3"
  }
 },
 "nbformat": 4,
 "nbformat_minor": 2
}
